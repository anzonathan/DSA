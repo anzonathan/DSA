{
 "cells": [
  {
   "cell_type": "markdown",
   "metadata": {},
   "source": [
    "# Stacks\n",
    "\n",
    "A stack is linear data structure that follows the LIFO (Last in First out) principle. Insertion and deletion happen at one end only. A real life example of a stack is a 'stack of dishes.' You can only add a plate at the top of the stack and remove a plate at the top as well. A technical application for a stack could be backtracking. This well displayed in undoing in  a word document. Every time you add a word or character it adds an element to the stack, and when you undo, it removes from the stack. Stacks can be implemented using a singly linked list or using a list. "
   ]
  },
  {
   "cell_type": "markdown",
   "metadata": {},
   "source": [
    "Implementation with python list. "
   ]
  },
  {
   "cell_type": "code",
   "execution_count": 53,
   "metadata": {},
   "outputs": [],
   "source": [
    "def show_stack(stack):#printing the stack \n",
    "    iter_point = 0\n",
    "    for i in stack:\n",
    "        iter_point += 1\n",
    "        if (iter_point) == len(dishes):\n",
    "            print(i)\n",
    "        else: \n",
    "            print(i,\"\\n|\")"
   ]
  },
  {
   "cell_type": "code",
   "execution_count": 54,
   "metadata": {},
   "outputs": [
    {
     "name": "stdout",
     "output_type": "stream",
     "text": [
      "blue dish \n",
      "|\n",
      "black dish \n",
      "|\n",
      "black dish \n",
      "|\n",
      "black dish\n"
     ]
    }
   ],
   "source": [
    "dishes = ['blue dish', 'black dish', 'black dish', 'black dish']\n",
    "\n",
    "show_stack(dishes)\n",
    "\n"
   ]
  },
  {
   "cell_type": "markdown",
   "metadata": {},
   "source": [
    "Removing element from stack"
   ]
  },
  {
   "cell_type": "code",
   "execution_count": 55,
   "metadata": {},
   "outputs": [
    {
     "name": "stdout",
     "output_type": "stream",
     "text": [
      "blue dish \n",
      "|\n",
      "black dish \n",
      "|\n",
      "black dish\n"
     ]
    }
   ],
   "source": [
    "dishes.pop()\n",
    "show_stack(dishes)"
   ]
  },
  {
   "cell_type": "markdown",
   "metadata": {},
   "source": [
    "Inserting into stack"
   ]
  },
  {
   "cell_type": "code",
   "execution_count": 56,
   "metadata": {},
   "outputs": [
    {
     "name": "stdout",
     "output_type": "stream",
     "text": [
      "blue dish \n",
      "|\n",
      "black dish \n",
      "|\n",
      "black dish \n",
      "|\n",
      "red dish\n"
     ]
    }
   ],
   "source": [
    "dishes.append('red dish')\n",
    "show_stack(dishes)"
   ]
  }
 ],
 "metadata": {
  "kernelspec": {
   "display_name": "class",
   "language": "python",
   "name": "python3"
  },
  "language_info": {
   "codemirror_mode": {
    "name": "ipython",
    "version": 3
   },
   "file_extension": ".py",
   "mimetype": "text/x-python",
   "name": "python",
   "nbconvert_exporter": "python",
   "pygments_lexer": "ipython3",
   "version": "3.12.5"
  }
 },
 "nbformat": 4,
 "nbformat_minor": 2
}
