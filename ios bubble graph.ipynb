{
 "cells": [
  {
   "cell_type": "code",
   "execution_count": null,
   "metadata": {},
   "outputs": [],
   "source": [
    "graph = {\n",
    "    1:[0,0,0,0,14,0,0,0,0],\n",
    "    2:[0,10,0,4,0,5,0,11,0],\n",
    "    3:[8,0,2,0,1,0,3,0,9],\n",
    "    4:[0,12,0,6,0,7,0,13,0],\n",
    "    5:[0,0,0,0,15,0,0,0,0],\n",
    "}\n"
   ]
  },
  {
   "cell_type": "markdown",
   "metadata": {},
   "source": [
    "1 = max\n",
    "2 to 7 = 2m = 0.8*max\n",
    "8 to 15 = 0.8*2m"
   ]
  },
  {
   "cell_type": "code",
   "execution_count": null,
   "metadata": {},
   "outputs": [],
   "source": [
    "graph"
   ]
  },
  {
   "cell_type": "code",
   "execution_count": null,
   "metadata": {},
   "outputs": [],
   "source": [
    "#searching in graph\n",
    "for i in graph.values():\n",
    "    for g in i:\n",
    "        print(g)"
   ]
  }
 ],
 "metadata": {
  "kernelspec": {
   "display_name": "class",
   "language": "python",
   "name": "python3"
  },
  "language_info": {
   "codemirror_mode": {
    "name": "ipython",
    "version": 3
   },
   "file_extension": ".py",
   "mimetype": "text/x-python",
   "name": "python",
   "nbconvert_exporter": "python",
   "pygments_lexer": "ipython3",
   "version": "3.12.5"
  }
 },
 "nbformat": 4,
 "nbformat_minor": 2
}
