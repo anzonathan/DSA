{
 "cells": [
  {
   "cell_type": "markdown",
   "metadata": {},
   "source": [
    "# Linked Lists \n",
    "\n",
    "A linked list is a sequential data structure with each node containing data and a pointer. \n",
    "\n",
    "There are three kinds of linked lists \n",
    "- Singly linked lists: points to the next node\n",
    "- doubly linked lists: points to the next and previous node\n",
    "- circular linked lists: the last node points to the first node. Can also be singly linked or doubly linked"
   ]
  },
  {
   "cell_type": "markdown",
   "metadata": {},
   "source": [
    "Implementation of a singly linked list. The number of pointers in a singly linked list is always n-1, with n being the number of nodes. "
   ]
  },
  {
   "cell_type": "code",
   "execution_count": 7,
   "metadata": {},
   "outputs": [
    {
     "name": "stdout",
     "output_type": "stream",
     "text": [
      "5 -> 8 -> 9 -> 2 -> "
     ]
    }
   ],
   "source": [
    "class node:\n",
    "    def __init__(self,data):\n",
    "        self.data = data\n",
    "        self.next = None\n",
    "\n",
    "node1 = node(5)\n",
    "node2 = node(8)\n",
    "node3 = node(9)\n",
    "node4 = node(2)\n",
    "\n",
    "node1.next = node2\n",
    "node2.next = node3\n",
    "node3.next = node4\n",
    "\n",
    "start_node = node1\n",
    "\n",
    "while start_node:\n",
    "    print(start_node.data, end=\" -> \")\n",
    "    start_node = start_node.next"
   ]
  },
  {
   "cell_type": "markdown",
   "metadata": {},
   "source": [
    "Alternatives Coding Options: \n",
    "- You can use a dictionary with the key being the node value and the value being the pointer \n",
    "- You can also use a list with two values for the node value, and the pointer"
   ]
  }
 ],
 "metadata": {
  "kernelspec": {
   "display_name": "class",
   "language": "python",
   "name": "python3"
  },
  "language_info": {
   "codemirror_mode": {
    "name": "ipython",
    "version": 3
   },
   "file_extension": ".py",
   "mimetype": "text/x-python",
   "name": "python",
   "nbconvert_exporter": "python",
   "pygments_lexer": "ipython3",
   "version": "3.12.5"
  }
 },
 "nbformat": 4,
 "nbformat_minor": 2
}
