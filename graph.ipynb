{
 "cells": [
  {
   "cell_type": "markdown",
   "metadata": {},
   "source": [
    "# Graphs\n",
    "\n",
    "Graphs are non linear data structures that have nodes that are connected by edges, and can either be directed, undirected, or weighted  "
   ]
  },
  {
   "cell_type": "code",
   "execution_count": 74,
   "metadata": {},
   "outputs": [],
   "source": [
    "graph = {}"
   ]
  },
  {
   "cell_type": "code",
   "execution_count": 75,
   "metadata": {},
   "outputs": [],
   "source": [
    "def addNode(node):\n",
    "    graph[node] = []"
   ]
  },
  {
   "cell_type": "code",
   "execution_count": 76,
   "metadata": {},
   "outputs": [],
   "source": [
    "def addEdge(node1,node2):\n",
    "    graph[node1].append(node2)\n",
    "    graph[node2].append(node1)"
   ]
  },
  {
   "cell_type": "code",
   "execution_count": 77,
   "metadata": {},
   "outputs": [],
   "source": [
    "def deleteEdge(node1,node2):\n",
    "    graph[node1].remove(node2)\n",
    "    graph[node2].remove(node1)"
   ]
  },
  {
   "cell_type": "code",
   "execution_count": 78,
   "metadata": {},
   "outputs": [],
   "source": [
    "def removeNode(node):\n",
    "    graph.pop(node)\n",
    "    for k in graph:\n",
    "        for v in k:\n",
    "            if v == node:\n",
    "                v.remove(node)"
   ]
  },
  {
   "cell_type": "code",
   "execution_count": 79,
   "metadata": {},
   "outputs": [
    {
     "data": {
      "text/plain": [
       "{'b': ['a'], 'c': ['a']}"
      ]
     },
     "execution_count": 79,
     "metadata": {},
     "output_type": "execute_result"
    }
   ],
   "source": [
    "addNode('a')\n",
    "addNode('b')\n",
    "addNode('c')\n",
    "\n",
    "addEdge('a','b')\n",
    "addEdge('a','c')\n",
    "\n",
    "removeNode('a')\n",
    "\n",
    "graph"
   ]
  }
 ],
 "metadata": {
  "kernelspec": {
   "display_name": "class",
   "language": "python",
   "name": "python3"
  },
  "language_info": {
   "codemirror_mode": {
    "name": "ipython",
    "version": 3
   },
   "file_extension": ".py",
   "mimetype": "text/x-python",
   "name": "python",
   "nbconvert_exporter": "python",
   "pygments_lexer": "ipython3",
   "version": "3.12.5"
  }
 },
 "nbformat": 4,
 "nbformat_minor": 2
}
