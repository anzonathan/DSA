{
 "cells": [
  {
   "cell_type": "markdown",
   "metadata": {},
   "source": [
    "# Queue \n",
    "\n",
    "A queue is a linear data structure that follows the FIFO (Fist in Last out) principle. Just like a waiting line, an entry in a queue can only be inserted at the tail of the queue and popped out at the head of a queue. \n",
    "\n",
    "They are several kinds of queues.\n",
    "- Simple queue: Insert one end and delete from the other\n",
    "    - Input Restricted: Insertion can happen from both ends but deletion can happen from one end \n",
    "    - Output Restricted: Deletion can happen from both ends bur insertion can happen from one end\n",
    "- Circular queue: The last entry is connected to the firs entry\n",
    "- Priority queue: Entries are arranged in some sort of order \n",
    "    - Ascending \n",
    "    - Descending\n",
    "- Dequeue: Double ended queue where insertion and deletion can happen at any end"
   ]
  },
  {
   "cell_type": "markdown",
   "metadata": {},
   "source": [
    "Python Implementation with deque library."
   ]
  },
  {
   "cell_type": "code",
   "execution_count": 39,
   "metadata": {},
   "outputs": [],
   "source": [
    "from collections import deque\n",
    "\n",
    "class queue:\n",
    "    def __init__(self):\n",
    "        self.queue = deque()\n",
    "\n",
    "    def enqueue(self, value):\n",
    "        self.queue.appendleft(value)\n",
    "\n",
    "    def dequeue(self):\n",
    "        self.queue.pop()\n",
    "\n"
   ]
  },
  {
   "cell_type": "code",
   "execution_count": 40,
   "metadata": {},
   "outputs": [
    {
     "data": {
      "text/plain": [
       "deque(['Miles', 'James', 'Marvin'])"
      ]
     },
     "execution_count": 40,
     "metadata": {},
     "output_type": "execute_result"
    }
   ],
   "source": [
    "line = queue()\n",
    "\n",
    "line.enqueue('Marvin')\n",
    "line.enqueue('James')\n",
    "line.enqueue('Miles')\n",
    "line.queue\n"
   ]
  },
  {
   "cell_type": "code",
   "execution_count": 41,
   "metadata": {},
   "outputs": [
    {
     "data": {
      "text/plain": [
       "deque(['Miles', 'James'])"
      ]
     },
     "execution_count": 41,
     "metadata": {},
     "output_type": "execute_result"
    }
   ],
   "source": [
    "line.dequeue()\n",
    "line.queue"
   ]
  },
  {
   "cell_type": "markdown",
   "metadata": {},
   "source": [
    "Alternative: This could also be done with a list."
   ]
  }
 ],
 "metadata": {
  "kernelspec": {
   "display_name": "class",
   "language": "python",
   "name": "python3"
  },
  "language_info": {
   "codemirror_mode": {
    "name": "ipython",
    "version": 3
   },
   "file_extension": ".py",
   "mimetype": "text/x-python",
   "name": "python",
   "nbconvert_exporter": "python",
   "pygments_lexer": "ipython3",
   "version": "3.12.5"
  }
 },
 "nbformat": 4,
 "nbformat_minor": 2
}
