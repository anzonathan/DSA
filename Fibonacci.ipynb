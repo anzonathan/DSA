{
 "cells": [
  {
   "cell_type": "markdown",
   "metadata": {},
   "source": [
    "Generating the fibonacci sequence to the nth digit."
   ]
  },
  {
   "cell_type": "code",
   "execution_count": 8,
   "metadata": {},
   "outputs": [
    {
     "name": "stdout",
     "output_type": "stream",
     "text": [
      "0\n",
      "1\n"
     ]
    }
   ],
   "source": [
    "def fibseries(n):\n",
    "\n",
    "    if n > 0:\n",
    "        f1 = 0\n",
    "        f2 = 1\n",
    "        print(f1)\n",
    "        print(f2)\n",
    "\n",
    "        for i in range (1,n-1):\n",
    "            f = f1 + f2\n",
    "            f1 = f2\n",
    "            f2 = f\n",
    "            print(f) \n",
    "    else:\n",
    "        print(\"Invalid Input\")\n",
    "\n",
    "fibseries(-7)"
   ]
  }
 ],
 "metadata": {
  "kernelspec": {
   "display_name": "class",
   "language": "python",
   "name": "python3"
  },
  "language_info": {
   "codemirror_mode": {
    "name": "ipython",
    "version": 3
   },
   "file_extension": ".py",
   "mimetype": "text/x-python",
   "name": "python",
   "nbconvert_exporter": "python",
   "pygments_lexer": "ipython3",
   "version": "3.12.5"
  }
 },
 "nbformat": 4,
 "nbformat_minor": 2
}
